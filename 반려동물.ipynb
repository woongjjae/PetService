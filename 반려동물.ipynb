{
 "cells": [
  {
   "cell_type": "code",
   "execution_count": null,
   "id": "d4271799-dd09-418b-8102-c775572fd832",
   "metadata": {
    "id": "d4271799-dd09-418b-8102-c775572fd832",
    "tags": []
   },
   "outputs": [],
   "source": [
    "import os\n",
    "from langchain_community.vectorstores import Chroma\n",
    "#OpenAIEmbeddings는 비용나감 / llm모델이랑 별개의 작업이므로 다른 모델 사용 가능\n",
    "from langchain_community.embeddings import HuggingFaceEmbeddings\n",
    "from langchain.retrievers.multi_query import MultiQueryRetriever\n",
    "from langchain_openai import ChatOpenAI\n",
    "from langchain.chains import ConversationalRetrievalChain\n",
    "from langchain.memory import ConversationBufferMemory\n",
    "from langchain.prompts import ChatPromptTemplate"
   ]
  },
  {
   "cell_type": "code",
   "execution_count": null,
   "id": "ba88a086-e485-4912-9692-8b6bbaa14d3a",
   "metadata": {
    "id": "ba88a086-e485-4912-9692-8b6bbaa14d3a",
    "tags": []
   },
   "outputs": [],
   "source": [
    "#임베딩 모델\n",
    "model_name='jhgan/ko-sroberta-nli'\n",
    "model_kwargs = {\"device\":\"cpu\"}\n",
    "encode_kwargs={'normalize_embeddings':True}\n",
    "embeddings = HuggingFaceEmbeddings(\n",
    "    model_name=model_name,\n",
    "    model_kwargs=model_kwargs,\n",
    "    encode_kwargs=encode_kwargs\n",
    "\n",
    ")"
   ]
  },
  {
   "cell_type": "code",
   "execution_count": null,
   "id": "f1d7ba4f",
   "metadata": {},
   "outputs": [],
   "source": [
    "# 저장할 경로 지정\n",
    "DB_PATH = \"./chroma_db\"\n",
    "\n",
    "# 문서를 디스크에 저장. 저장시 persist_directory에 저장할 경로를 지정합니다.\n",
    "vector_db = Chroma.from_documents(splits, embeddings, persist_directory=DB_PATH)\n"
   ]
  },
  {
   "cell_type": "code",
   "execution_count": null,
   "id": "c94cedf9-8c79-405d-933f-de133edff577",
   "metadata": {
    "id": "c94cedf9-8c79-405d-933f-de133edff577"
   },
   "outputs": [],
   "source": [
    "vector_db = Chroma(persist_directory=\"./chroma_db\", embedding_function=embeddings)"
   ]
  },
  {
   "cell_type": "markdown",
   "id": "Gx4HYDskl8fn",
   "metadata": {
    "id": "Gx4HYDskl8fn"
   },
   "source": [
    "앞서 저장된 vector_db 불러오기"
   ]
  },
  {
   "cell_type": "code",
   "execution_count": null,
   "id": "3af76de0-6a36-4409-b5e9-5d4df07c5f2f",
   "metadata": {
    "collapsed": true,
    "id": "3af76de0-6a36-4409-b5e9-5d4df07c5f2f"
   },
   "outputs": [],
   "source": [
    "#openai 인증키 설정\n",
    "os.environ[\"OPENAI_API_KEY\"] = \"\""
   ]
  },
  {
   "cell_type": "code",
   "execution_count": null,
   "id": "fcc5142c-a543-4b0f-a7f2-aa503acf895c",
   "metadata": {
    "id": "fcc5142c-a543-4b0f-a7f2-aa503acf895c",
    "tags": []
   },
   "outputs": [],
   "source": [
    "#프롬프트 설정\n",
    "prompt = ChatPromptTemplate.from_messages(\n",
    "    [\n",
    "        (\n",
    "            \"system\",\n",
    "            \"\"\"\n",
    "            You are a helpful assistant.\n",
    "            You are a chatbot that provides information about pet-friendly facilities.\n",
    "            Please respond based on the context.\n",
    "            Answer questions using only the following context.\n",
    "            모든 정보를 알려줘. 간결하게 답해줘.\n",
    "            If you don't know the answer just say you don't know,\n",
    "            don't make it up:\n",
    "            \\n\\n\n",
    "            {context}\n",
    "            \"\"\",\n",
    "        ),\n",
    "        (\"human\", \"{question}\"),\n",
    "    ]\n",
    ")"
   ]
  },
  {
   "cell_type": "code",
   "execution_count": null,
   "id": "9303fff3-2175-485b-9066-7c60ea36aa2c",
   "metadata": {
    "id": "9303fff3-2175-485b-9066-7c60ea36aa2c",
    "tags": []
   },
   "outputs": [],
   "source": [
    "# llm 모델\n",
    "llm = ChatOpenAI(model=\"gpt-4o\",temperature=0)"
   ]
  },
  {
   "cell_type": "code",
   "execution_count": null,
   "id": "2e1949d2-7fc4-4de5-adc6-a87e62dc0f8c",
   "metadata": {
    "id": "2e1949d2-7fc4-4de5-adc6-a87e62dc0f8c"
   },
   "outputs": [],
   "source": [
    "# retriever 설정\n",
    "retriever = MultiQueryRetriever.from_llm(\n",
    "    retriever=vector_db.as_retriever(\n",
    "    search_type='mmr',\n",
    "    search_kwargs={'k':3, 'fetch_k': 3}),\n",
    "    llm=llm\n",
    ")"
   ]
  },
  {
   "cell_type": "code",
   "execution_count": null,
   "id": "025dff94-792f-49db-85f1-134b5a0c7267",
   "metadata": {
    "id": "025dff94-792f-49db-85f1-134b5a0c7267"
   },
   "outputs": [],
   "source": [
    "#langchain\n",
    "conversation_chain = ConversationalRetrievalChain.from_llm(\n",
    "        llm=llm,\n",
    "        chain_type=\"stuff\",\n",
    "        retriever=retriever,\n",
    "        memory=ConversationBufferMemory(memory_key='chat_history', return_messages=True, output_key='answer'),\n",
    "        get_chat_history=lambda h: h,\n",
    "        return_source_documents=True,\n",
    "        verbose = True,\n",
    "        combine_docs_chain_kwargs={\"prompt\": prompt}\n",
    "    )"
   ]
  },
  {
   "cell_type": "code",
   "execution_count": null,
   "id": "90947f70-4f11-40b2-9b3f-d25e28d034cb",
   "metadata": {
    "id": "90947f70-4f11-40b2-9b3f-d25e28d034cb",
    "outputId": "e302c078-88a6-4e43-f737-695e31c92cbb",
    "tags": []
   },
   "outputs": [
    {
     "name": "stdout",
     "output_type": "stream",
     "text": [
      "\n",
      "\n",
      "\u001b[1m> Entering new StuffDocumentsChain chain...\u001b[0m\n",
      "\n",
      "\n",
      "\u001b[1m> Entering new LLMChain chain...\u001b[0m\n",
      "Prompt after formatting:\n",
      "\u001b[32;1m\u001b[1;3mSystem: \n",
      "            You are a helpful assistant. \n",
      "            You are a chatbot that provides information about pet-friendly facilities. \n",
      "            Please respond based on the context.\n",
      "            Answer questions using only the following context.\n",
      "            간결하게 답해줘.\n",
      "            If you don't know the answer just say you don't know, \n",
      "            don't make it up:\n",
      "            \n",
      "\n",
      "\n",
      "            개상전 애견카페은(는) (03397) 서울특별시 은평구 통일로 727-5에 위치한 카페 시설입니다.\n",
      "운영시간 : 매일 11:00~21:00 | 휴무일 : 연중무휴 | 주차가능 | 반려동물 동반가능 | 반려동물 제한사항 : 없음.\n",
      "입장(이용료)가격 정보 : 변동 | 애견 동반 추가 요금 : 없음.\n",
      "좌표 : N37.61021895, E126.929202.\n",
      "추가적인 정보는 https://www.instagram.com/gaesangjeon/?utm_source=ig_profile_share&igshid=p7pa7v4n8y9z에서 확인하세요.\n",
      "\n",
      "쿠쿠펫 애견카페은(는) (34190) 대전광역시 유성구 봉명로 27-7에 위치한 카페 시설입니다.\n",
      "운영시간 : 매일 11:00~20:00 | 휴무일 : 연중무휴 | 주차가능 | 반려동물 동반가능 | 반려동물 제한사항 : 매너벨트, 안거나 목줄 착용.\n",
      "입장(이용료)가격 정보 : 12000원 | 애견 동반 추가 요금 : 5,000원.\n",
      "좌표 : N36.34238192, E127.342701.\n",
      "추가적인 정보는 http://www.dhkookoopet.com에서 확인하세요.\n",
      "\n",
      "카카오독 애견카페은(는) (07786) 서울특별시 강서구 곰달래로60길 33에 위치한 카페 시설입니다.\n",
      "운영시간 : 화, 목~일 13:00~18:00 | 휴무일 : 매주 월, 수 | 주차가능 | 반려동물 동반가능 | 반려동물 제한사항 : 제한사항 없음.\n",
      "입장(이용료)가격 정보 : 변동 | 애견 동반 추가 요금 : 없음.\n",
      "좌표 : N37.53079464, E126.86329.\n",
      "추가적인 정보는 https://blog.naver.com/jihae850912에서 확인하세요.\n",
      "\n",
      "멍멍이 다방은(는) (07711) 서울특별시 강서구 화곡로 117-1에 위치한 카페 시설입니다.\n",
      "운영시간 : 화~일 12:00~22:00 | 휴무일 : 매주 월요일 | 주차가능 | 반려동물 동반가능 | 반려동물 제한사항 : 제한사항 없음.\n",
      "입장(이용료)가격 정보 : 6000원 | 애견 동반 추가 요금 : 없음.\n",
      "좌표 : N37.54044768, E126.834881.\n",
      "추가적인 정보는 http://cafe.naver.com/mongmongdabang에서 확인하세요.\n",
      "            \n",
      "Human: 은평구에 있는 반려동물 동반 가능 카페를 알려줘\u001b[0m\n",
      "\n",
      "\u001b[1m> Finished chain.\u001b[0m\n",
      "\n",
      "\u001b[1m> Finished chain.\u001b[0m\n"
     ]
    }
   ],
   "source": [
    "# 질문 입력\n",
    "query=\"은평구에 있는 반려동물 동반 가능 카페를 알려줘\"\n",
    "answer=conversation_chain(query)\n"
   ]
  }
 ],
 "metadata": {
  "colab": {
   "provenance": []
  },
  "kernelspec": {
   "display_name": "Python 3 (ipykernel)",
   "language": "python",
   "name": "python3"
  },
  "language_info": {
   "codemirror_mode": {
    "name": "ipython",
    "version": 3
   },
   "file_extension": ".py",
   "mimetype": "text/x-python",
   "name": "python",
   "nbconvert_exporter": "python",
   "pygments_lexer": "ipython3",
   "version": "3.9.13"
  }
 },
 "nbformat": 4,
 "nbformat_minor": 5
}
